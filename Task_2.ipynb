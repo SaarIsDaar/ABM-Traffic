{
 "cells": [
  {
   "cell_type": "code",
   "execution_count": 8,
   "id": "5cd547ec-0eae-4980-80cc-0e624a631d72",
   "metadata": {},
   "outputs": [
    {
     "name": "stdout",
     "output_type": "stream",
     "text": [
      "The kernel is active!!\n"
     ]
    }
   ],
   "source": [
    "print(\"The kernel is active!!\")"
   ]
  },
  {
   "cell_type": "code",
   "execution_count": 9,
   "id": "608b6de0-e88a-46f5-bcd7-8f9b8ab354e2",
   "metadata": {},
   "outputs": [],
   "source": [
    "# Imports\n",
    "import abmax.structs as abx_struct\n",
    "import abmax.functions as abx_func\n",
    "import jax.numpy as jnp\n",
    "import jax.random as random\n",
    "import jax\n",
    "from flax import struct"
   ]
  },
  {
   "cell_type": "code",
   "execution_count": 12,
   "id": "dfbf11a6-c233-4953-a239-2efc94d16fcd",
   "metadata": {},
   "outputs": [],
   "source": [
    "@struct.dataclass\n",
    "class Dice(abx_struct.Agent):\n",
    "    @staticmethod\n",
    "    def create_agent(type, params, id, active_state, key):\n",
    "        key, subkey = random.split(key) # Split the key into the two segments: the key and the subkey\n",
    "        \n",
    "        def create_active_agent():\n",
    "            draw = jax.random.randint(subkey, (1,), 1, 7) # Draw one six-sided die with randomness of subkey\n",
    "            state_content = {'draw': draw} # The active agent is allowed to draw a number\n",
    "            return abx_struct.State(content=state_content) \n",
    "        \n",
    "        def create_inactive_agent():\n",
    "            state_content = {'draw': jnp.array([0])} # Create an empty array\n",
    "            return abx_struct.State(content=state_content) # The inactive agent may not draw\n",
    "        agent_state = jax.lax.cond(active_state, lambda _: create_active_agent(), lambda _: create_inactive_agent(), None) # If active state is true, you create an active state agent, if not, you create an inactive state agent.\n",
    "\n",
    "        return Dice(params=params, id=id, state=agent_state, agent_type=type, key = key, policy = None, age = 0.0, \n",
    "                    active_state=active_state) # Construct the agent\n",
    "    \n",
    "    @staticmethod\n",
    "    def step_agent(agent, input, step_params):\n",
    "        \n",
    "        def step_active_agent():\n",
    "            key, subkey = random.split(agent.key)\n",
    "            draw = jax.random.randint(subkey, (1,), 1, 7)\n",
    "            state_content = {'draw': draw}\n",
    "            new_state = abx_struct.State(content=state_content)\n",
    "            return agent.replace(state = new_state, key = key, age = agent.age + 1.0)\n",
    "        \n",
    "        def step_inactive_agent():\n",
    "            return agent\n",
    "        \n",
    "        new_agent = jax.lax.cond(agent.active_state, lambda _: step_active_agent(), lambda _: step_inactive_agent(), None)\n",
    "        return new_agent\n",
    "    \n",
    "    \n",
    "    @staticmethod\n",
    "    def remove_agent(agents, idx, remove_params):\n",
    "        agent_to_remove = jax.tree_util.tree_map(lambda x:x[idx], agents) # How does this lambda function work exactly\n",
    "        new_state_content = {'draw': 0}\n",
    "        new_state = abx_struct.State(content = new_state_content)\n",
    "        return agent_to_remove.replace(state = new_state, active_state = False, age = 0.0)\n",
    "    \n",
    "    @staticmethod\n",
    "    def add_agent(agents, idx, add_params):\n",
    "        agent_to_add = jax.tree_util.tree_map(lambda x:x[idx], agents)\n",
    "        key, subkey = random.split(agent_to_add.key)\n",
    "        draw = jax.random.randint(subkey, (1,), 1, 7)\n",
    "        state_content = {'draw': draw}\n",
    "        new_state = abx_struct.State(content=state_content)\n",
    "\n",
    "        return agent_to_add.replace(state = new_state, key = key, active_state = True, age = 0.0)"
   ]
  },
  {
   "cell_type": "code",
   "execution_count": 13,
   "id": "fd0f5ce2-abb9-49a2-ba91-6c99ca6f269c",
   "metadata": {},
   "outputs": [
    {
     "name": "stdout",
     "output_type": "stream",
     "text": [
      "agent active state:  [1 1 1 1 1 0 0 0 0 0]\n",
      "agent draws:  [1 4 2 6 3 0 0 0 0 0]\n"
     ]
    }
   ],
   "source": [
    "num_agents = 10\n",
    "num_active_agents = 5\n",
    "key = random.PRNGKey(0)\n",
    "key, subkey = random.split(key)\n",
    "agent_type = 1\n",
    "params = None\n",
    "\n",
    "dice_agents = abx_func.create_agents(Dice, params=params, num_agents=num_agents, num_active_agents=num_active_agents, agent_type=agent_type, key=subkey)\n",
    "print(\"agent active state: \", dice_agents.active_state)\n",
    "print(\"agent draws: \", dice_agents.state.content['draw'].reshape(-1))"
   ]
  },
  {
   "cell_type": "code",
   "execution_count": 14,
   "id": "fa321354-db15-4980-b531-5964653058dd",
   "metadata": {},
   "outputs": [
    {
     "name": "stdout",
     "output_type": "stream",
     "text": [
      "number of active agents in the set:  5\n"
     ]
    }
   ],
   "source": [
    "key, subkey = random.split(key)\n",
    "\n",
    "dice_set = abx_struct.Set(agents = dice_agents,\n",
    "               num_agents = num_agents,\n",
    "               num_active_agents = num_active_agents,\n",
    "               state = None,\n",
    "               params = None,\n",
    "               policy = None,\n",
    "               id = 0,\n",
    "               set_type = 1,\n",
    "               key = subkey)\n",
    "\n",
    "print(\"number of active agents in the set: \", dice_set.num_active_agents)"
   ]
  },
  {
   "cell_type": "code",
   "execution_count": 20,
   "id": "d28f3486-5853-4fd4-adbb-7818d5926980",
   "metadata": {},
   "outputs": [
    {
     "name": "stdout",
     "output_type": "stream",
     "text": [
      "agent draws before step:  [5 5 6 3 6 0 0 0 0 0]\n",
      "agent draws after step:   [5 5 2 6 5 0 0 0 0 0]\n"
     ]
    }
   ],
   "source": [
    "print(\"agent draws before step: \", dice_set.agents.state.content['draw'].reshape(-1))\n",
    "\n",
    "dice_set = abx_func.jit_step_agents(step_func = Dice.step_agent, \n",
    "                           step_params = None, \n",
    "                           input = None, \n",
    "                           set = dice_set)\n",
    "\n",
    "print(\"agent draws after step:  \", dice_set.agents.state.content['draw'].reshape(-1))"
   ]
  },
  {
   "cell_type": "code",
   "execution_count": 21,
   "id": "6636f465-d7be-49ee-a15c-2501271d8cfe",
   "metadata": {},
   "outputs": [
    {
     "name": "stdout",
     "output_type": "stream",
     "text": [
      "agent draws:  [5 5 2 6 5 0 0 0 0 0]\n",
      "value:  [1 1 0 0 1 0 0 0 0 0]\n"
     ]
    }
   ],
   "source": [
    "select_params = abx_struct.Params(content={'select_draw': 5})\n",
    "\n",
    "def select_func(dice_agent, select_params):\n",
    "    draw = jnp.reshape(dice_agent.state.content['draw'], (-1))\n",
    "    return draw == select_params.content['select_draw']\n",
    "\n",
    "#test select function\n",
    "value = select_func(dice_set.agents, select_params)\n",
    "print(\"agent draws: \", dice_set.agents.state.content['draw'].reshape(-1))\n",
    "print(\"value: \", jnp.int16(value)) # convert to int, True = 1, False = 0"
   ]
  },
  {
   "cell_type": "code",
   "execution_count": 22,
   "id": "f052b8cc-5178-4854-87bc-fbb887ef1323",
   "metadata": {},
   "outputs": [
    {
     "name": "stdout",
     "output_type": "stream",
     "text": [
      "number of agents selected:  3\n",
      "indices of the agents selected:  [0 1 4 2 3 5 6 7 8 9]\n"
     ]
    }
   ],
   "source": [
    "\n",
    "\n",
    "num_agents_selected, selected_indx = abx_func.jit_select_agents(select_func = select_func, \n",
    "                                                       select_params = select_params, \n",
    "                                                       set = dice_set)\n",
    "\n",
    "print(\"number of agents selected: \", num_agents_selected)\n",
    "print(\"indices of the agents selected: \", selected_indx) # Every idx, starting with selected, and from there increasing without the selected ones"
   ]
  },
  {
   "cell_type": "code",
   "execution_count": 23,
   "id": "30af8d65-499e-4656-875d-af7e99312d41",
   "metadata": {},
   "outputs": [
    {
     "name": "stdout",
     "output_type": "stream",
     "text": [
      " agents active before remove:  5\n",
      " agents draws before remove:  [5 5 2 6 5 0 0 0 0 0]\n",
      "\n",
      "\n",
      " agents active after remove:  2\n",
      " agents draws after remove:  [2 6 0 0 0 0 0 0 0 0]\n",
      " sorted_ids:  [2 3 0 1 4 5 6 7 8 9]\n"
     ]
    }
   ],
   "source": [
    "print(\" agents active before remove: \", dice_set.num_active_agents)\n",
    "print(\" agents draws before remove: \", dice_set.agents.state.content['draw'].reshape(-1))\n",
    "print(\"\\n\")\n",
    "\n",
    "remove_params = abx_struct.Params(content={'remove_indx': selected_indx})\n",
    "\n",
    "dice_set, sorted_indx = abx_func.jit_remove_agents(remove_func = Dice.remove_agent, \n",
    "                                          remove_params = remove_params, \n",
    "                                          num_agents_remove = num_agents_selected, \n",
    "                                          set = dice_set)\n",
    "\n",
    "print(\" agents active after remove: \", dice_set.num_active_agents)\n",
    "print(\" agents draws after remove: \", dice_set.agents.state.content['draw'].reshape(-1))\n",
    "print(\" sorted_ids: \", sorted_indx)"
   ]
  },
  {
   "cell_type": "code",
   "execution_count": 27,
   "id": "2883ea43-1fc5-4c04-9c67-c96c9271a9df",
   "metadata": {},
   "outputs": [
    {
     "name": "stdout",
     "output_type": "stream",
     "text": [
      "agents draws:  [2 6 0 0 0 0 0 0 0 0]\n",
      "number of agents selected:  1\n",
      "indices of the selected agents:  [0 1 2 3 4 5 6 7 8 9]\n"
     ]
    }
   ],
   "source": [
    "select_params = abx_struct.Params(content={'select_draw': 2})\n",
    "\n",
    "def select_func(dice_agent, select_params):\n",
    "    draw = jnp.reshape(dice_agent.state.content['draw'], (-1))\n",
    "    return draw == select_params.content['select_draw']\n",
    "\n",
    "num_agents_selected, selected_indx = abx_func.jit_select_agents(select_func = select_func, \n",
    "                                                       select_params = select_params, \n",
    "                                                       set = dice_set)\n",
    "\n",
    "print(\"agents draws: \", dice_set.agents.state.content['draw'].reshape(-1))\n",
    "print(\"number of agents selected: \", num_agents_selected)\n",
    "print(\"indices of the selected agents: \", selected_indx)"
   ]
  },
  {
   "cell_type": "code",
   "execution_count": 34,
   "id": "6d8451c5-94d3-4b12-90f1-e295e0a95692",
   "metadata": {},
   "outputs": [
    {
     "name": "stdout",
     "output_type": "stream",
     "text": [
      " agents active before add:  5\n",
      " agents active after add:  6\n",
      " draws after add:  [2 1 4 1 5 5 0 0 0 0]\n"
     ]
    }
   ],
   "source": [
    "print(\" agents active before add: \", dice_set.num_active_agents)\n",
    "\n",
    "dice_set = abx_func.jit_add_agents(add_func = Dice.add_agent, \n",
    "                          add_params = None, \n",
    "                          num_agents_add = num_agents_selected, \n",
    "                          set = dice_set)\n",
    "\n",
    "print(\" agents active after add: \", dice_set.num_active_agents)\n",
    "print(\" draws after add: \", dice_set.agents.state.content['draw'].reshape(-1))"
   ]
  },
  {
   "cell_type": "code",
   "execution_count": 35,
   "id": "81a87ad2-8aa0-442c-b5cb-0df3c105b48e",
   "metadata": {},
   "outputs": [
    {
     "name": "stdout",
     "output_type": "stream",
     "text": [
      "draws after step:  [4 1 3 6 5 6 0 0 0 0]\n"
     ]
    }
   ],
   "source": [
    "dice_set = abx_func.jit_step_agents(Dice.step_agent, step_params=None, input=None, set=dice_set)\n",
    "print(\"draws after step: \", dice_set.agents.state.content['draw'].reshape(-1))"
   ]
  },
  {
   "cell_type": "code",
   "execution_count": 36,
   "id": "f3ddc0a7-7b5e-4fe9-a275-b078feb9ecc2",
   "metadata": {},
   "outputs": [
    {
     "name": "stdout",
     "output_type": "stream",
     "text": [
      "draws before remove and add at time step  1 :  [5 4 3 5 5 0 0 0 0 0]\n",
      "draws after remove and add at time step  1 :  [4 3 0 0 0 0 0 0 0 0]\n",
      "\n",
      "\n",
      "draws before remove and add at time step  2 :  [2 6 0 0 0 0 0 0 0 0]\n",
      "draws after remove and add at time step  2 :  [2 6 0 0 0 0 0 0 0 0]\n",
      "\n",
      "\n",
      "draws before remove and add at time step  3 :  [2 6 0 0 0 0 0 0 0 0]\n",
      "draws after remove and add at time step  3 :  [2 6 0 0 0 0 0 0 0 0]\n",
      "\n",
      "\n",
      "draws before remove and add at time step  4 :  [1 4 0 0 0 0 0 0 0 0]\n",
      "draws after remove and add at time step  4 :  [1 4 3 0 0 0 0 0 0 0]\n",
      "\n",
      "\n",
      "draws before remove and add at time step  5 :  [5 6 1 0 0 0 0 0 0 0]\n",
      "draws after remove and add at time step  5 :  [6 1 5 0 0 0 0 0 0 0]\n",
      "\n",
      "\n",
      "draws before remove and add at time step  6 :  [2 1 2 0 0 0 0 0 0 0]\n",
      "draws after remove and add at time step  6 :  [2 1 2 3 0 0 0 0 0 0]\n",
      "\n",
      "\n",
      "draws before remove and add at time step  7 :  [1 5 1 5 0 0 0 0 0 0]\n",
      "draws after remove and add at time step  7 :  [1 1 5 5 0 0 0 0 0 0]\n",
      "\n",
      "\n",
      "draws before remove and add at time step  8 :  [5 1 4 3 0 0 0 0 0 0]\n",
      "draws after remove and add at time step  8 :  [1 4 3 2 0 0 0 0 0 0]\n",
      "\n",
      "\n",
      "draws before remove and add at time step  9 :  [6 4 6 4 0 0 0 0 0 0]\n",
      "draws after remove and add at time step  9 :  [6 4 6 4 0 0 0 0 0 0]\n",
      "\n",
      "\n"
     ]
    }
   ],
   "source": [
    "num_agents = 10\n",
    "num_active_agents = 5\n",
    "key = jax.random.PRNGKey(0)\n",
    "key, subkey = random.split(key)\n",
    "agent_type = 1\n",
    "\n",
    "dice_agents = abx_func.create_agents(Dice, params=None, num_agents=num_agents, num_active_agents=num_active_agents, \n",
    "                            agent_type=agent_type, key=subkey)\n",
    "\n",
    "key, subkey = random.split(key)\n",
    "dice_set = abx_struct.Set(agents = dice_agents, num_agents = num_agents, num_active_agents = num_active_agents, state = None, \n",
    "                params = None, policy = None, id = 0, set_type = 1, key = subkey)\n",
    "\n",
    "remove_select_params = abx_struct.Params(content={'select_draw': 5})\n",
    "add_select_params = abx_struct.Params(content={'select_draw': 1})\n",
    "\n",
    "def select_func(dice_agent, select_params):\n",
    "    draw = jnp.reshape(dice_agent.state.content['draw'], (-1))\n",
    "    return draw == select_params.content['select_draw']\n",
    "\n",
    "def loop_step(set, t):\n",
    "    set = abx_func.jit_step_agents(Dice.step_agent, step_params=None, input=None, set=set)\n",
    "    draw_before_remove_add = set.agents.state.content['draw'].reshape(-1)\n",
    "        \n",
    "    num_agents_selected, selected_indx = abx_func.jit_select_agents(select_func = select_func, select_params = remove_select_params, set = set)\n",
    "    \n",
    "    remove_params = abx_struct.Params(content={'remove_indx': selected_indx})\n",
    "    set, sorted_indx = abx_func.jit_remove_agents(remove_func = Dice.remove_agent, remove_params = remove_params, num_agents_remove = num_agents_selected, set = set)\n",
    "    \n",
    "    num_agents_selected, selected_indx = abx_func.jit_select_agents(select_func = select_func, select_params = add_select_params, set = set)\n",
    "    set = abx_func.jit_add_agents(add_func = Dice.add_agent, add_params = None, num_agents_add = num_agents_selected, set = set)\n",
    "    draw_after_remove_add = set.agents.state.content['draw'].reshape(-1)\n",
    "    \n",
    "    return set, (draw_before_remove_add, draw_after_remove_add)\n",
    "jit_loop_step = jax.jit(loop_step)\n",
    "\n",
    "ts = jnp.arange(1,10)\n",
    "dice_set, (draw_before_remove_add, draw_after_remove_add) = jax.lax.scan(jit_loop_step, dice_set, ts)\n",
    "\n",
    "for i in range(9):\n",
    "    print(\"draws before remove and add at time step \", i+1, \": \", draw_before_remove_add[i])\n",
    "    print(\"draws after remove and add at time step \", i+1, \": \", draw_after_remove_add[i])\n",
    "    print(\"\\n\")"
   ]
  },
  {
   "cell_type": "code",
   "execution_count": 37,
   "id": "fd9068d5-c72e-414e-b4ce-4cc9573544ef",
   "metadata": {},
   "outputs": [
    {
     "name": "stdout",
     "output_type": "stream",
     "text": [
      "number of active agents in each set:  [4 5 6 7 8]\n"
     ]
    }
   ],
   "source": [
    "@struct.dataclass\n",
    "class DiceSet(abx_struct.Set):\n",
    "    @staticmethod\n",
    "    def create_set(num_agents, num_active_agents, agents, set_params, id, set_type, set_subkeys):\n",
    "        return DiceSet(agents = agents, num_agents = num_agents, num_active_agents = num_active_agents, state = None, \n",
    "                       params = set_params, policy = None, id = id, set_type = set_type, key = set_subkeys)\n",
    "\n",
    "num_sets = 5\n",
    "num_agents = 10\n",
    "num_active_agents = jnp.array([4, 5, 6, 7, 8]) # different sets can have different number of active agents\n",
    "key = random.PRNGKey(0)\n",
    "\n",
    "\n",
    "dice_sets = abx_func.create_sets(set=DiceSet, set_params = None, set_type = 1, \n",
    "                          agent=Dice, agent_params=None, agent_type=1,\n",
    "                          num_sets = num_sets, num_agents = num_agents, num_active_agents = num_active_agents,\n",
    "                          key = key)\n",
    "\n",
    "print(\"number of active agents in each set: \", dice_sets.num_active_agents)"
   ]
  },
  {
   "cell_type": "code",
   "execution_count": 38,
   "id": "cb61b654-49cd-4870-9172-f8260d6bb4a7",
   "metadata": {},
   "outputs": [],
   "source": [
    "ts = jnp.arange(1,10)\n",
    "\n",
    "def sim(set, ts):\n",
    "    return jax.lax.scan(loop_step, set, ts)\n",
    "vmap_sim = jax.vmap(sim, in_axes=(0, None))\n",
    "jit_vmap_sim = jax.jit(vmap_sim)\n",
    "\n",
    "sets, (draw_before_remove_add, draw_after_remove_add) = jit_vmap_sim(dice_sets, ts)"
   ]
  },
  {
   "cell_type": "code",
   "execution_count": 39,
   "id": "c2f6c842-42b7-4bf8-ab62-ea2e7121d22e",
   "metadata": {},
   "outputs": [
    {
     "name": "stdout",
     "output_type": "stream",
     "text": [
      "for set  1 : \n",
      "draws before remove and add at time step  1 :  [5 4 3 5 0 0 0 0 0 0]\n",
      "draws after remove and add at time step  1 :  [4 3 0 0 0 0 0 0 0 0]\n",
      "\n",
      "\n",
      "draws before remove and add at time step  2 :  [2 6 0 0 0 0 0 0 0 0]\n",
      "draws after remove and add at time step  2 :  [2 6 0 0 0 0 0 0 0 0]\n",
      "\n",
      "\n",
      "draws before remove and add at time step  3 :  [2 6 0 0 0 0 0 0 0 0]\n",
      "draws after remove and add at time step  3 :  [2 6 0 0 0 0 0 0 0 0]\n",
      "\n",
      "\n",
      "draws before remove and add at time step  4 :  [1 4 0 0 0 0 0 0 0 0]\n",
      "draws after remove and add at time step  4 :  [1 4 3 0 0 0 0 0 0 0]\n",
      "\n",
      "\n",
      "draws before remove and add at time step  5 :  [5 6 1 0 0 0 0 0 0 0]\n",
      "draws after remove and add at time step  5 :  [6 1 5 0 0 0 0 0 0 0]\n",
      "\n",
      "\n",
      "draws before remove and add at time step  6 :  [2 1 2 0 0 0 0 0 0 0]\n",
      "draws after remove and add at time step  6 :  [2 1 2 3 0 0 0 0 0 0]\n",
      "\n",
      "\n",
      "draws before remove and add at time step  7 :  [1 5 1 5 0 0 0 0 0 0]\n",
      "draws after remove and add at time step  7 :  [1 1 5 5 0 0 0 0 0 0]\n",
      "\n",
      "\n",
      "draws before remove and add at time step  8 :  [5 1 4 3 0 0 0 0 0 0]\n",
      "draws after remove and add at time step  8 :  [1 4 3 2 0 0 0 0 0 0]\n",
      "\n",
      "\n",
      "draws before remove and add at time step  9 :  [6 4 6 4 0 0 0 0 0 0]\n",
      "draws after remove and add at time step  9 :  [6 4 6 4 0 0 0 0 0 0]\n",
      "\n",
      "\n",
      "\n",
      "\n",
      "for set  2 : \n",
      "draws before remove and add at time step  1 :  [1 2 6 6 5 0 0 0 0 0]\n",
      "draws after remove and add at time step  1 :  [1 2 6 6 6 0 0 0 0 0]\n",
      "\n",
      "\n",
      "draws before remove and add at time step  2 :  [3 1 4 1 5 0 0 0 0 0]\n",
      "draws after remove and add at time step  2 :  [3 1 4 1 4 4 0 0 0 0]\n",
      "\n",
      "\n",
      "draws before remove and add at time step  3 :  [4 4 3 5 6 4 0 0 0 0]\n",
      "draws after remove and add at time step  3 :  [4 4 3 6 4 0 0 0 0 0]\n",
      "\n",
      "\n",
      "draws before remove and add at time step  4 :  [5 3 3 3 3 0 0 0 0 0]\n",
      "draws after remove and add at time step  4 :  [3 3 3 3 0 0 0 0 0 0]\n",
      "\n",
      "\n",
      "draws before remove and add at time step  5 :  [6 1 5 6 0 0 0 0 0 0]\n",
      "draws after remove and add at time step  5 :  [6 1 6 5 0 0 0 0 0 0]\n",
      "\n",
      "\n",
      "draws before remove and add at time step  6 :  [6 1 5 5 0 0 0 0 0 0]\n",
      "draws after remove and add at time step  6 :  [6 1 1 0 0 0 0 0 0 0]\n",
      "\n",
      "\n",
      "draws before remove and add at time step  7 :  [6 1 6 0 0 0 0 0 0 0]\n",
      "draws after remove and add at time step  7 :  [6 1 6 2 0 0 0 0 0 0]\n",
      "\n",
      "\n",
      "draws before remove and add at time step  8 :  [4 6 5 5 0 0 0 0 0 0]\n",
      "draws after remove and add at time step  8 :  [4 6 0 0 0 0 0 0 0 0]\n",
      "\n",
      "\n",
      "draws before remove and add at time step  9 :  [2 5 0 0 0 0 0 0 0 0]\n",
      "draws after remove and add at time step  9 :  [2 0 0 0 0 0 0 0 0 0]\n",
      "\n",
      "\n",
      "\n",
      "\n",
      "for set  3 : \n",
      "draws before remove and add at time step  1 :  [4 2 2 3 1 6 0 0 0 0]\n",
      "draws after remove and add at time step  1 :  [4 2 2 3 1 6 3 0 0 0]\n",
      "\n",
      "\n",
      "draws before remove and add at time step  2 :  [4 2 6 4 5 5 6 0 0 0]\n",
      "draws after remove and add at time step  2 :  [4 2 6 4 6 0 0 0 0 0]\n",
      "\n",
      "\n",
      "draws before remove and add at time step  3 :  [5 4 6 1 6 0 0 0 0 0]\n",
      "draws after remove and add at time step  3 :  [4 6 1 6 6 0 0 0 0 0]\n",
      "\n",
      "\n",
      "draws before remove and add at time step  4 :  [4 1 6 3 2 0 0 0 0 0]\n",
      "draws after remove and add at time step  4 :  [4 1 6 3 2 5 0 0 0 0]\n",
      "\n",
      "\n",
      "draws before remove and add at time step  5 :  [5 2 4 6 5 6 0 0 0 0]\n",
      "draws after remove and add at time step  5 :  [2 4 6 6 0 0 0 0 0 0]\n",
      "\n",
      "\n",
      "draws before remove and add at time step  6 :  [6 4 3 5 0 0 0 0 0 0]\n",
      "draws after remove and add at time step  6 :  [6 4 3 0 0 0 0 0 0 0]\n",
      "\n",
      "\n",
      "draws before remove and add at time step  7 :  [1 6 2 0 0 0 0 0 0 0]\n",
      "draws after remove and add at time step  7 :  [1 6 2 3 0 0 0 0 0 0]\n",
      "\n",
      "\n",
      "draws before remove and add at time step  8 :  [5 1 2 2 0 0 0 0 0 0]\n",
      "draws after remove and add at time step  8 :  [1 2 2 1 0 0 0 0 0 0]\n",
      "\n",
      "\n",
      "draws before remove and add at time step  9 :  [4 3 4 6 0 0 0 0 0 0]\n",
      "draws after remove and add at time step  9 :  [4 3 4 6 0 0 0 0 0 0]\n",
      "\n",
      "\n",
      "\n",
      "\n",
      "for set  4 : \n",
      "draws before remove and add at time step  1 :  [3 6 3 4 3 4 6 0 0 0]\n",
      "draws after remove and add at time step  1 :  [3 6 3 4 3 4 6 0 0 0]\n",
      "\n",
      "\n",
      "draws before remove and add at time step  2 :  [5 4 1 5 6 1 2 0 0 0]\n",
      "draws after remove and add at time step  2 :  [4 1 6 1 2 2 1 0 0 0]\n",
      "\n",
      "\n",
      "draws before remove and add at time step  3 :  [3 3 5 1 5 1 4 0 0 0]\n",
      "draws after remove and add at time step  3 :  [3 3 1 1 4 4 1 0 0 0]\n",
      "\n",
      "\n",
      "draws before remove and add at time step  4 :  [5 1 6 6 3 1 6 0 0 0]\n",
      "draws after remove and add at time step  4 :  [1 6 6 3 1 6 3 6 0 0]\n",
      "\n",
      "\n",
      "draws before remove and add at time step  5 :  [6 4 2 1 6 3 3 2 0 0]\n",
      "draws after remove and add at time step  5 :  [6 4 2 1 6 3 3 2 3 0]\n",
      "\n",
      "\n",
      "draws before remove and add at time step  6 :  [3 3 3 1 5 1 5 6 4 0]\n",
      "draws after remove and add at time step  6 :  [3 3 3 1 1 6 4 3 5 0]\n",
      "\n",
      "\n",
      "draws before remove and add at time step  7 :  [4 5 3 2 4 1 2 5 5 0]\n",
      "draws after remove and add at time step  7 :  [4 3 2 4 1 2 4 0 0 0]\n",
      "\n",
      "\n",
      "draws before remove and add at time step  8 :  [3 3 1 6 5 6 4 0 0 0]\n",
      "draws after remove and add at time step  8 :  [3 3 1 6 6 4 2 0 0 0]\n",
      "\n",
      "\n",
      "draws before remove and add at time step  9 :  [6 5 4 1 2 3 2 0 0 0]\n",
      "draws after remove and add at time step  9 :  [6 4 1 2 3 2 5 0 0 0]\n",
      "\n",
      "\n",
      "\n",
      "\n",
      "for set  5 : \n",
      "draws before remove and add at time step  1 :  [1 3 1 6 6 5 4 5 0 0]\n",
      "draws after remove and add at time step  1 :  [1 3 1 6 6 4 4 3 0 0]\n",
      "\n",
      "\n",
      "draws before remove and add at time step  2 :  [4 2 6 5 2 3 5 4 0 0]\n",
      "draws after remove and add at time step  2 :  [4 2 6 2 3 4 0 0 0 0]\n",
      "\n",
      "\n",
      "draws before remove and add at time step  3 :  [3 6 2 6 3 6 0 0 0 0]\n",
      "draws after remove and add at time step  3 :  [3 6 2 6 3 6 0 0 0 0]\n",
      "\n",
      "\n",
      "draws before remove and add at time step  4 :  [1 1 2 6 6 1 0 0 0 0]\n",
      "draws after remove and add at time step  4 :  [1 1 2 6 6 1 3 1 5 0]\n",
      "\n",
      "\n",
      "draws before remove and add at time step  5 :  [3 1 1 1 4 3 1 6 4 0]\n",
      "draws after remove and add at time step  5 :  [3 1 1 1 4 3 1 6 4 3]\n",
      "\n",
      "\n",
      "draws before remove and add at time step  6 :  [4 4 6 4 6 4 1 5 5 2]\n",
      "draws after remove and add at time step  6 :  [4 4 6 4 6 4 1 2 3 0]\n",
      "\n",
      "\n",
      "draws before remove and add at time step  7 :  [4 3 1 1 4 6 2 4 4 0]\n",
      "draws after remove and add at time step  7 :  [4 3 1 1 4 6 2 4 4 5]\n",
      "\n",
      "\n",
      "draws before remove and add at time step  8 :  [2 4 6 1 2 6 1 3 1 1]\n",
      "draws after remove and add at time step  8 :  [2 4 6 1 2 6 1 3 1 1]\n",
      "\n",
      "\n",
      "draws before remove and add at time step  9 :  [3 2 1 6 1 1 2 2 5 6]\n",
      "draws after remove and add at time step  9 :  [3 2 1 6 1 1 2 2 6 4]\n",
      "\n",
      "\n",
      "\n",
      "\n"
     ]
    }
   ],
   "source": [
    "for i in range(5):\n",
    "    print(\"for set \", i+1, \": \")\n",
    "    for j in range(9):\n",
    "        print(\"draws before remove and add at time step \", j+1, \": \", draw_before_remove_add[i][j])\n",
    "        print(\"draws after remove and add at time step \", j+1, \": \", draw_after_remove_add[i][j])\n",
    "        print(\"\\n\")\n",
    "    print(\"\\n\")"
   ]
  },
  {
   "cell_type": "code",
   "execution_count": null,
   "id": "30657147-b819-4fb4-8bf4-f0d556fc869c",
   "metadata": {},
   "outputs": [],
   "source": []
  }
 ],
 "metadata": {
  "kernelspec": {
   "display_name": "Thesis_Kernel",
   "language": "python",
   "name": "thesis_kernel"
  },
  "language_info": {
   "codemirror_mode": {
    "name": "ipython",
    "version": 3
   },
   "file_extension": ".py",
   "mimetype": "text/x-python",
   "name": "python",
   "nbconvert_exporter": "python",
   "pygments_lexer": "ipython3",
   "version": "3.13.1"
  }
 },
 "nbformat": 4,
 "nbformat_minor": 5
}
