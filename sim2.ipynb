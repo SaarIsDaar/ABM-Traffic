{
 "cells": [
  {
   "cell_type": "code",
   "execution_count": 1,
   "metadata": {},
   "outputs": [],
   "source": [
    "from abmax.structs import *\n",
    "from abmax.functions import *\n",
    "import jax.numpy as jnp\n",
    "import jax.random as random\n",
    "import jax\n",
    "from flax import struct\n",
    "from evosax import CMA_ES"
   ]
  },
  {
   "cell_type": "code",
   "execution_count": null,
   "metadata": {},
   "outputs": [],
   "source": [
    "@struct.dataclass\n",
    "class Car(Agent):\n",
    "    \"\"\"\n",
    "    state : \n",
    "    current location (x, y, l()may not be needed), \n",
    "    direction_of_heading: 0: up, 1: down, 2: left, 3: right\n",
    "    chaos: 0: no chaos, 1: chaos\n",
    "    speed: 0: stopped, 1: moving\n",
    "    \n",
    "    parameters:\n",
    "    car_length: length of the car\n",
    "    destination: destination of the car (x, y, l)\n",
    "\n",
    "\n",
    "    \"\"\"\n",
    "    @staticmethod\n",
    "    def create_agent(type, params, id, active_state, key):\n",
    "        key, subkey = random.split(key)\n",
    "        def create_active_agent():\n",
    "            subkey, *create_keys = random.split(subkey, 3) #3 will change based on need\n",
    "            map = params['map']\n",
    "            polarity = jax.random.randint(create_keys[0], (1,), 0, 2)\n",
    "            \n",
    "\n",
    "        def create_inactive_agent():\n",
    "            pass\n",
    "\n",
    "@struct.dataclass\n",
    "class road_Cell():\n",
    "    \"\"\"\n",
    "    state: \n",
    "    occupied: full: 1, empty: 0 not a road: -1\n",
    "    polarity : 0: way 1 1: way 2 direction of the road \n",
    "    type: 0: start_terminal, 1: end_terminal, 2: road, 3: intersection\n",
    "    uturn: 0: no uturn, 1: uturn, no u turn for now\n",
    "    \"\"\"\n",
    "    pass\n",
    "\n",
    "class junction_cell\n",
    "\n",
    "\n",
    "@struct.dataclass\n",
    "class Map(Agent):\n",
    "    vmasp(road_cells)\n",
    "    vmap(J_cells)\n",
    "\n",
    "def map_rules(map: Map):\n",
    "    pass\n",
    "\n",
    "def get_route(car: Car, map: Map):\n",
    "    pass"
   ]
  },
  {
   "cell_type": "code",
   "execution_count": 6,
   "metadata": {},
   "outputs": [
    {
     "name": "stdout",
     "output_type": "stream",
     "text": [
      "[1]\n"
     ]
    }
   ],
   "source": [
    "key= random.PRNGKey(4)\n",
    "print(jax.random.randint(key, (1,), 0, 2))"
   ]
  },
  {
   "cell_type": "code",
   "execution_count": null,
   "metadata": {},
   "outputs": [],
   "source": [
    "class Cell(Agent):\n",
    "    '''\n",
    "    left/right/up/down\n",
    "    number_of cars\n",
    "    coordinates\n",
    "    lanes\n",
    "    '''\n",
    "    @staticmethod\n",
    "    def create_agent(self, type, params, id, active_state, key):\n",
    "        key, subkey = random.split(key)\n",
    "        \n",
    "        def create_active_agent():\n",
    "            lane = params.content['lane']\n",
    "            direction = params.content['direction']\n",
    "            agent_params_content = {'lane': lane, 'direction': direction}\n",
    "            agent_params = Params(content=agent_params_content)\n",
    "\n",
    "            number_of_cars = jax.random.randint(subkey, (1,), 0, 2) # although 2 cars can be in a cell, lets keep it 1 for now\n",
    "            agent_state_content = {'number_of_cars': number_of_cars}\n",
    "            agent_state = State(content=agent_state_content)\n",
    "            \n",
    "            return agent_params, agent_state\n",
    "        \n",
    "        def create_inactive_agent():\n",
    "            direction = jnp.array([-1])\n",
    "            lane = jnp.array([-1])\n",
    "            agent_params_content = {'lane': lane, 'direction': direction}\n",
    "            agent_params = Params(content=agent_params_content)\n",
    "\n",
    "            number_of_cars = jnp.array([-1])\n",
    "            agent_state_content = {'number_of_cars': number_of_cars}\n",
    "            agent_state = State(content=agent_state_content)\n",
    "\n",
    "            return agent_params, agent_state\n",
    "        \n",
    "        agent_params, agent_state = jax.lax.cond(active_state, lambda _: create_active_agent(), lambda _: create_inactive_agent(), None)\n",
    "        agent = Cell(id=id, active_state=active_state, age=0.0, agent_type=type, params=agent_params, state=agent_state, policy=None, key=key)\n",
    "        return agent\n",
    "    \n",
    "    def step_agent(agent, input:Signal, step_params:Params):\n",
    "        # maximum 2 cars are allowed in a cell\n",
    "        # straight vs lane change; straight gets priority\n",
    "        # \n",
    "\n",
    "class Car(Agent):\n",
    "    def create_agent():\n",
    "        pass"
   ]
  },
  {
   "cell_type": "code",
   "execution_count": null,
   "metadata": {},
   "outputs": [],
   "source": [
    "def update_cell"
   ]
  },
  {
   "cell_type": "code",
   "execution_count": null,
   "metadata": {},
   "outputs": [
    {
     "ename": "SyntaxError",
     "evalue": "invalid syntax (4191883041.py, line 10)",
     "output_type": "error",
     "traceback": [
      "\u001b[0;36m  Cell \u001b[0;32mIn[5], line 10\u001b[0;36m\u001b[0m\n\u001b[0;31m    pass:\u001b[0m\n\u001b[0m        ^\u001b[0m\n\u001b[0;31mSyntaxError\u001b[0m\u001b[0;31m:\u001b[0m invalid syntax\n"
     ]
    }
   ],
   "source": [
    "class Cell(Agent):\n",
    "    \"\"\"\n",
    "    state:\n",
    "    X, Y\n",
    "    requests: list of car_id which want to come to this cell\n",
    "    current_cars: list of car_id which are currently in this cell\n",
    "\n",
    "    parameters:\n",
    "    \"\"\"\n",
    "    pass:\n",
    "\n",
    "class Car(Agent):\n",
    "    \"\"\"\n",
    "    state:\n",
    "    \"\"\"\n",
    "    pass\n",
    "\n",
    "def get_request(car:Agent, road:set):\n",
    "    \"\"\"\n",
    "    This function vmaps over cars and updates the state.request of the car.\n",
    "    It also updates the cell.state.requests of the cell with the id of the car which wants to come there.\n",
    "    args:\n",
    "    car: car agent\n",
    "    road: set of cell agents\n",
    "\n",
    "    return:\n",
    "    updated car agent\n",
    "    updated road cell Set\n",
    "\n",
    "    \"\"\"\n",
    "    pass\n",
    "\n",
    "def process_request(cell:Agent, cars:Set):\n",
    "    \"\"\"\n",
    "    This function processes the requests of the cars\n",
    "    first we need to check the state of the cell\n",
    "    - how many cars are already there\n",
    "    - how many cars are requesting to come there\n",
    "    - what are the rules of the cell/traffic\n",
    "    based on this accept/reject the requests of the cars\n",
    "    then, we update the state of the cell with the accepted cars\n",
    "    we update the state of the cars with the cell id\n",
    "    the rejected cars are not updated.\n",
    "    vmapped over cells.\n",
    "    args:\n",
    "    cell: cell agent\n",
    "    cars: set of car agents\n",
    "    return:\n",
    "    updated cell agent\n",
    "    updated car agent\n",
    "    \"\"\"\n",
    "\n",
    "def step(cars, road):\n",
    "    get_request(cars, road)\n",
    "    process_request(cars, road)\n",
    "    \n",
    "\n"
   ]
  },
  {
   "cell_type": "code",
   "execution_count": null,
   "metadata": {},
   "outputs": [],
   "source": []
  },
  {
   "cell_type": "markdown",
   "metadata": {},
   "source": []
  }
 ],
 "metadata": {
  "kernelspec": {
   "display_name": "Python 3",
   "language": "python",
   "name": "python3"
  },
  "language_info": {
   "codemirror_mode": {
    "name": "ipython",
    "version": 3
   },
   "file_extension": ".py",
   "mimetype": "text/x-python",
   "name": "python",
   "nbconvert_exporter": "python",
   "pygments_lexer": "ipython3",
   "version": "3.10.10"
  }
 },
 "nbformat": 4,
 "nbformat_minor": 2
}
